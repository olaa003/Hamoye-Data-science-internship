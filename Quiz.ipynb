{
 "cells": [
  {
   "cell_type": "code",
   "execution_count": 1,
   "id": "b1b014dc-d193-4e68-8b95-bf3aed988e02",
   "metadata": {},
   "outputs": [],
   "source": [
    "import pandas as pd"
   ]
  },
  {
   "cell_type": "code",
   "execution_count": 3,
   "id": "0e6b51d6-dc8b-4f5e-89e3-6f9839a732ba",
   "metadata": {},
   "outputs": [],
   "source": [
    "food_balance=pd.read_csv('FoodBalanceSheets_E_Africa_NOFLAG.csv',encoding = \"ISO-8859-1\", engine='python')"
   ]
  },
  {
   "cell_type": "code",
   "execution_count": 4,
   "id": "1606be1c-25bf-4e14-92ba-1654e317a19e",
   "metadata": {},
   "outputs": [
    {
     "data": {
      "text/html": [
       "<div>\n",
       "<style scoped>\n",
       "    .dataframe tbody tr th:only-of-type {\n",
       "        vertical-align: middle;\n",
       "    }\n",
       "\n",
       "    .dataframe tbody tr th {\n",
       "        vertical-align: top;\n",
       "    }\n",
       "\n",
       "    .dataframe thead th {\n",
       "        text-align: right;\n",
       "    }\n",
       "</style>\n",
       "<table border=\"1\" class=\"dataframe\">\n",
       "  <thead>\n",
       "    <tr style=\"text-align: right;\">\n",
       "      <th></th>\n",
       "      <th>Area Code</th>\n",
       "      <th>Area</th>\n",
       "      <th>Item Code</th>\n",
       "      <th>Item</th>\n",
       "      <th>Element Code</th>\n",
       "      <th>Element</th>\n",
       "      <th>Unit</th>\n",
       "      <th>Y2014</th>\n",
       "      <th>Y2015</th>\n",
       "      <th>Y2016</th>\n",
       "      <th>Y2017</th>\n",
       "      <th>Y2018</th>\n",
       "    </tr>\n",
       "  </thead>\n",
       "  <tbody>\n",
       "    <tr>\n",
       "      <th>0</th>\n",
       "      <td>4</td>\n",
       "      <td>Algeria</td>\n",
       "      <td>2501</td>\n",
       "      <td>Population</td>\n",
       "      <td>511</td>\n",
       "      <td>Total Population - Both sexes</td>\n",
       "      <td>1000 persons</td>\n",
       "      <td>38924.00</td>\n",
       "      <td>39728.00</td>\n",
       "      <td>40551.00</td>\n",
       "      <td>41389.00</td>\n",
       "      <td>42228.00</td>\n",
       "    </tr>\n",
       "    <tr>\n",
       "      <th>1</th>\n",
       "      <td>4</td>\n",
       "      <td>Algeria</td>\n",
       "      <td>2501</td>\n",
       "      <td>Population</td>\n",
       "      <td>5301</td>\n",
       "      <td>Domestic supply quantity</td>\n",
       "      <td>1000 tonnes</td>\n",
       "      <td>0.00</td>\n",
       "      <td>0.00</td>\n",
       "      <td>0.00</td>\n",
       "      <td>0.00</td>\n",
       "      <td>0.00</td>\n",
       "    </tr>\n",
       "    <tr>\n",
       "      <th>2</th>\n",
       "      <td>4</td>\n",
       "      <td>Algeria</td>\n",
       "      <td>2901</td>\n",
       "      <td>Grand Total</td>\n",
       "      <td>664</td>\n",
       "      <td>Food supply (kcal/capita/day)</td>\n",
       "      <td>kcal/capita/day</td>\n",
       "      <td>3377.00</td>\n",
       "      <td>3379.00</td>\n",
       "      <td>3372.00</td>\n",
       "      <td>3341.00</td>\n",
       "      <td>3322.00</td>\n",
       "    </tr>\n",
       "    <tr>\n",
       "      <th>3</th>\n",
       "      <td>4</td>\n",
       "      <td>Algeria</td>\n",
       "      <td>2901</td>\n",
       "      <td>Grand Total</td>\n",
       "      <td>674</td>\n",
       "      <td>Protein supply quantity (g/capita/day)</td>\n",
       "      <td>g/capita/day</td>\n",
       "      <td>94.90</td>\n",
       "      <td>94.35</td>\n",
       "      <td>94.72</td>\n",
       "      <td>92.82</td>\n",
       "      <td>91.83</td>\n",
       "    </tr>\n",
       "    <tr>\n",
       "      <th>4</th>\n",
       "      <td>4</td>\n",
       "      <td>Algeria</td>\n",
       "      <td>2901</td>\n",
       "      <td>Grand Total</td>\n",
       "      <td>684</td>\n",
       "      <td>Fat supply quantity (g/capita/day)</td>\n",
       "      <td>g/capita/day</td>\n",
       "      <td>80.06</td>\n",
       "      <td>79.36</td>\n",
       "      <td>77.40</td>\n",
       "      <td>80.19</td>\n",
       "      <td>77.28</td>\n",
       "    </tr>\n",
       "  </tbody>\n",
       "</table>\n",
       "</div>"
      ],
      "text/plain": [
       "   Area Code     Area  Item Code         Item  Element Code  \\\n",
       "0          4  Algeria       2501   Population           511   \n",
       "1          4  Algeria       2501   Population          5301   \n",
       "2          4  Algeria       2901  Grand Total           664   \n",
       "3          4  Algeria       2901  Grand Total           674   \n",
       "4          4  Algeria       2901  Grand Total           684   \n",
       "\n",
       "                                  Element             Unit     Y2014  \\\n",
       "0           Total Population - Both sexes     1000 persons  38924.00   \n",
       "1                Domestic supply quantity      1000 tonnes      0.00   \n",
       "2           Food supply (kcal/capita/day)  kcal/capita/day   3377.00   \n",
       "3  Protein supply quantity (g/capita/day)     g/capita/day     94.90   \n",
       "4      Fat supply quantity (g/capita/day)     g/capita/day     80.06   \n",
       "\n",
       "      Y2015     Y2016     Y2017     Y2018  \n",
       "0  39728.00  40551.00  41389.00  42228.00  \n",
       "1      0.00      0.00      0.00      0.00  \n",
       "2   3379.00   3372.00   3341.00   3322.00  \n",
       "3     94.35     94.72     92.82     91.83  \n",
       "4     79.36     77.40     80.19     77.28  "
      ]
     },
     "execution_count": 4,
     "metadata": {},
     "output_type": "execute_result"
    }
   ],
   "source": [
    "food_balance.head()"
   ]
  },
  {
   "cell_type": "code",
   "execution_count": 8,
   "id": "3882f6ef-f941-496a-a395-bf1011ca70ce",
   "metadata": {},
   "outputs": [
    {
     "name": "stdout",
     "output_type": "stream",
     "text": [
      "Item\n",
      "Alcohol, Non-Food        2403.00\n",
      "Alcoholic Beverages    102410.11\n",
      "Animal Products         11935.65\n",
      "Animal fats            209460.54\n",
      "Apples and products      9499.23\n",
      "                         ...    \n",
      "Vegetables, Other      155038.96\n",
      "Vegetal Products       107145.19\n",
      "Wheat and products     232670.13\n",
      "Wine                     4497.36\n",
      "Yams                   200396.96\n",
      "Name: Y2014, Length: 119, dtype: float64\n"
     ]
    }
   ],
   "source": [
    "print(food_balance.groupby('Item')['Y2014'].sum())"
   ]
  },
  {
   "cell_type": "code",
   "execution_count": 9,
   "id": "e5881c97-5fa2-4ae4-b989-b79fa587c9f1",
   "metadata": {},
   "outputs": [
    {
     "name": "stdout",
     "output_type": "stream",
     "text": [
      "Item\n",
      "Alcohol, Non-Food        2348.00\n",
      "Alcoholic Beverages     95581.06\n",
      "Animal Products         11547.65\n",
      "Animal fats            269617.53\n",
      "Apples and products     10198.90\n",
      "                         ...    \n",
      "Vegetables, Other      157752.59\n",
      "Vegetal Products       107655.20\n",
      "Wheat and products     240047.62\n",
      "Wine                     4178.02\n",
      "Yams                   229174.59\n",
      "Name: Y2017, Length: 119, dtype: float64\n"
     ]
    }
   ],
   "source": [
    "print(food_balance.groupby('Item')['Y2017'].sum())"
   ]
  },
  {
   "cell_type": "code",
   "execution_count": 16,
   "id": "979f4111-b16a-42e1-882d-9a3531929ec9",
   "metadata": {},
   "outputs": [
    {
     "data": {
      "text/html": [
       "<div>\n",
       "<style scoped>\n",
       "    .dataframe tbody tr th:only-of-type {\n",
       "        vertical-align: middle;\n",
       "    }\n",
       "\n",
       "    .dataframe tbody tr th {\n",
       "        vertical-align: top;\n",
       "    }\n",
       "\n",
       "    .dataframe thead th {\n",
       "        text-align: right;\n",
       "    }\n",
       "</style>\n",
       "<table border=\"1\" class=\"dataframe\">\n",
       "  <thead>\n",
       "    <tr style=\"text-align: right;\">\n",
       "      <th></th>\n",
       "      <th>Area Code</th>\n",
       "      <th>Area</th>\n",
       "      <th>Item Code</th>\n",
       "      <th>Item</th>\n",
       "      <th>Element Code</th>\n",
       "      <th>Element</th>\n",
       "      <th>Unit</th>\n",
       "      <th>Y2014</th>\n",
       "      <th>Y2015</th>\n",
       "      <th>Y2016</th>\n",
       "      <th>Y2017</th>\n",
       "      <th>Y2018</th>\n",
       "    </tr>\n",
       "  </thead>\n",
       "  <tbody>\n",
       "    <tr>\n",
       "      <th>count</th>\n",
       "      <td>60943.000000</td>\n",
       "      <td>60943</td>\n",
       "      <td>60943.000000</td>\n",
       "      <td>60943</td>\n",
       "      <td>60943.000000</td>\n",
       "      <td>60943</td>\n",
       "      <td>60943</td>\n",
       "      <td>59354.000000</td>\n",
       "      <td>59395.000000</td>\n",
       "      <td>59408.000000</td>\n",
       "      <td>59437.000000</td>\n",
       "      <td>59507.000000</td>\n",
       "    </tr>\n",
       "    <tr>\n",
       "      <th>unique</th>\n",
       "      <td>NaN</td>\n",
       "      <td>49</td>\n",
       "      <td>NaN</td>\n",
       "      <td>119</td>\n",
       "      <td>NaN</td>\n",
       "      <td>18</td>\n",
       "      <td>5</td>\n",
       "      <td>NaN</td>\n",
       "      <td>NaN</td>\n",
       "      <td>NaN</td>\n",
       "      <td>NaN</td>\n",
       "      <td>NaN</td>\n",
       "    </tr>\n",
       "    <tr>\n",
       "      <th>top</th>\n",
       "      <td>NaN</td>\n",
       "      <td>Kenya</td>\n",
       "      <td>NaN</td>\n",
       "      <td>Milk - Excluding Butter</td>\n",
       "      <td>NaN</td>\n",
       "      <td>Domestic supply quantity</td>\n",
       "      <td>1000 tonnes</td>\n",
       "      <td>NaN</td>\n",
       "      <td>NaN</td>\n",
       "      <td>NaN</td>\n",
       "      <td>NaN</td>\n",
       "      <td>NaN</td>\n",
       "    </tr>\n",
       "    <tr>\n",
       "      <th>freq</th>\n",
       "      <td>NaN</td>\n",
       "      <td>1560</td>\n",
       "      <td>NaN</td>\n",
       "      <td>1262</td>\n",
       "      <td>NaN</td>\n",
       "      <td>5295</td>\n",
       "      <td>40933</td>\n",
       "      <td>NaN</td>\n",
       "      <td>NaN</td>\n",
       "      <td>NaN</td>\n",
       "      <td>NaN</td>\n",
       "      <td>NaN</td>\n",
       "    </tr>\n",
       "    <tr>\n",
       "      <th>mean</th>\n",
       "      <td>134.265576</td>\n",
       "      <td>NaN</td>\n",
       "      <td>2687.176706</td>\n",
       "      <td>NaN</td>\n",
       "      <td>3814.856456</td>\n",
       "      <td>NaN</td>\n",
       "      <td>NaN</td>\n",
       "      <td>134.196282</td>\n",
       "      <td>135.235966</td>\n",
       "      <td>136.555222</td>\n",
       "      <td>140.917765</td>\n",
       "      <td>143.758381</td>\n",
       "    </tr>\n",
       "    <tr>\n",
       "      <th>std</th>\n",
       "      <td>72.605709</td>\n",
       "      <td>NaN</td>\n",
       "      <td>146.055739</td>\n",
       "      <td>NaN</td>\n",
       "      <td>2212.007033</td>\n",
       "      <td>NaN</td>\n",
       "      <td>NaN</td>\n",
       "      <td>1567.663696</td>\n",
       "      <td>1603.403984</td>\n",
       "      <td>1640.007194</td>\n",
       "      <td>1671.862359</td>\n",
       "      <td>1710.782658</td>\n",
       "    </tr>\n",
       "    <tr>\n",
       "      <th>min</th>\n",
       "      <td>4.000000</td>\n",
       "      <td>NaN</td>\n",
       "      <td>2501.000000</td>\n",
       "      <td>NaN</td>\n",
       "      <td>511.000000</td>\n",
       "      <td>NaN</td>\n",
       "      <td>NaN</td>\n",
       "      <td>-1796.000000</td>\n",
       "      <td>-3161.000000</td>\n",
       "      <td>-3225.000000</td>\n",
       "      <td>-1582.000000</td>\n",
       "      <td>-3396.000000</td>\n",
       "    </tr>\n",
       "    <tr>\n",
       "      <th>25%</th>\n",
       "      <td>74.000000</td>\n",
       "      <td>NaN</td>\n",
       "      <td>2562.000000</td>\n",
       "      <td>NaN</td>\n",
       "      <td>684.000000</td>\n",
       "      <td>NaN</td>\n",
       "      <td>NaN</td>\n",
       "      <td>0.000000</td>\n",
       "      <td>0.000000</td>\n",
       "      <td>0.000000</td>\n",
       "      <td>0.000000</td>\n",
       "      <td>0.000000</td>\n",
       "    </tr>\n",
       "    <tr>\n",
       "      <th>50%</th>\n",
       "      <td>136.000000</td>\n",
       "      <td>NaN</td>\n",
       "      <td>2630.000000</td>\n",
       "      <td>NaN</td>\n",
       "      <td>5142.000000</td>\n",
       "      <td>NaN</td>\n",
       "      <td>NaN</td>\n",
       "      <td>0.090000</td>\n",
       "      <td>0.080000</td>\n",
       "      <td>0.080000</td>\n",
       "      <td>0.100000</td>\n",
       "      <td>0.070000</td>\n",
       "    </tr>\n",
       "    <tr>\n",
       "      <th>75%</th>\n",
       "      <td>195.000000</td>\n",
       "      <td>NaN</td>\n",
       "      <td>2775.000000</td>\n",
       "      <td>NaN</td>\n",
       "      <td>5511.000000</td>\n",
       "      <td>NaN</td>\n",
       "      <td>NaN</td>\n",
       "      <td>8.340000</td>\n",
       "      <td>8.460000</td>\n",
       "      <td>8.430000</td>\n",
       "      <td>9.000000</td>\n",
       "      <td>9.000000</td>\n",
       "    </tr>\n",
       "    <tr>\n",
       "      <th>max</th>\n",
       "      <td>276.000000</td>\n",
       "      <td>NaN</td>\n",
       "      <td>2961.000000</td>\n",
       "      <td>NaN</td>\n",
       "      <td>5911.000000</td>\n",
       "      <td>NaN</td>\n",
       "      <td>NaN</td>\n",
       "      <td>176405.000000</td>\n",
       "      <td>181137.000000</td>\n",
       "      <td>185960.000000</td>\n",
       "      <td>190873.000000</td>\n",
       "      <td>195875.000000</td>\n",
       "    </tr>\n",
       "  </tbody>\n",
       "</table>\n",
       "</div>"
      ],
      "text/plain": [
       "           Area Code   Area     Item Code                     Item  \\\n",
       "count   60943.000000  60943  60943.000000                    60943   \n",
       "unique           NaN     49           NaN                      119   \n",
       "top              NaN  Kenya           NaN  Milk - Excluding Butter   \n",
       "freq             NaN   1560           NaN                     1262   \n",
       "mean      134.265576    NaN   2687.176706                      NaN   \n",
       "std        72.605709    NaN    146.055739                      NaN   \n",
       "min         4.000000    NaN   2501.000000                      NaN   \n",
       "25%        74.000000    NaN   2562.000000                      NaN   \n",
       "50%       136.000000    NaN   2630.000000                      NaN   \n",
       "75%       195.000000    NaN   2775.000000                      NaN   \n",
       "max       276.000000    NaN   2961.000000                      NaN   \n",
       "\n",
       "        Element Code                   Element         Unit          Y2014  \\\n",
       "count   60943.000000                     60943        60943   59354.000000   \n",
       "unique           NaN                        18            5            NaN   \n",
       "top              NaN  Domestic supply quantity  1000 tonnes            NaN   \n",
       "freq             NaN                      5295        40933            NaN   \n",
       "mean     3814.856456                       NaN          NaN     134.196282   \n",
       "std      2212.007033                       NaN          NaN    1567.663696   \n",
       "min       511.000000                       NaN          NaN   -1796.000000   \n",
       "25%       684.000000                       NaN          NaN       0.000000   \n",
       "50%      5142.000000                       NaN          NaN       0.090000   \n",
       "75%      5511.000000                       NaN          NaN       8.340000   \n",
       "max      5911.000000                       NaN          NaN  176405.000000   \n",
       "\n",
       "                Y2015          Y2016          Y2017          Y2018  \n",
       "count    59395.000000   59408.000000   59437.000000   59507.000000  \n",
       "unique            NaN            NaN            NaN            NaN  \n",
       "top               NaN            NaN            NaN            NaN  \n",
       "freq              NaN            NaN            NaN            NaN  \n",
       "mean       135.235966     136.555222     140.917765     143.758381  \n",
       "std       1603.403984    1640.007194    1671.862359    1710.782658  \n",
       "min      -3161.000000   -3225.000000   -1582.000000   -3396.000000  \n",
       "25%          0.000000       0.000000       0.000000       0.000000  \n",
       "50%          0.080000       0.080000       0.100000       0.070000  \n",
       "75%          8.460000       8.430000       9.000000       9.000000  \n",
       "max     181137.000000  185960.000000  190873.000000  195875.000000  "
      ]
     },
     "execution_count": 16,
     "metadata": {},
     "output_type": "execute_result"
    }
   ],
   "source": [
    "food_balance.describe(include='all')"
   ]
  },
  {
   "cell_type": "code",
   "execution_count": 14,
   "id": "95ee34b5-54d4-49a8-a234-61cc29399a79",
   "metadata": {},
   "outputs": [
    {
     "data": {
      "text/plain": [
       "Area Code          0\n",
       "Area               0\n",
       "Item Code          0\n",
       "Item               0\n",
       "Element Code       0\n",
       "Element            0\n",
       "Unit               0\n",
       "Y2014           1589\n",
       "Y2015           1548\n",
       "Y2016           1535\n",
       "Y2017           1506\n",
       "Y2018           1436\n",
       "dtype: int64"
      ]
     },
     "execution_count": 14,
     "metadata": {},
     "output_type": "execute_result"
    }
   ],
   "source": [
    "food_balance.isna().sum()"
   ]
  },
  {
   "cell_type": "code",
   "execution_count": 81,
   "id": "f08b3fda-a6f6-4cac-b7cd-5356d6edd4a6",
   "metadata": {},
   "outputs": [
    {
     "data": {
      "text/plain": [
       "2.583827093994075"
      ]
     },
     "execution_count": 81,
     "metadata": {},
     "output_type": "execute_result"
    }
   ],
   "source": [
    "food_balance.isna().Y2016.sum()/food_balance.Y2016.notnull().sum()*100"
   ]
  },
  {
   "cell_type": "code",
   "execution_count": 17,
   "id": "6984a3b3-d8a2-4e09-a601-e77989e19e89",
   "metadata": {},
   "outputs": [
    {
     "data": {
      "text/plain": [
       "Element\n",
       "Domestic supply quantity                  1996716.35\n",
       "Export Quantity                            150020.64\n",
       "Fat supply quantity (g/capita/day)          10225.56\n",
       "Feed                                       216927.89\n",
       "Food                                      1212332.49\n",
       "Food supply (kcal/capita/day)              454257.00\n",
       "Food supply quantity (kg/capita/yr)         49650.63\n",
       "Import Quantity                            274144.48\n",
       "Losses                                     153223.00\n",
       "Other uses (non-food)                       78718.13\n",
       "Processing                                 282923.00\n",
       "Production                                1931287.75\n",
       "Protein supply quantity (g/capita/day)      11836.46\n",
       "Residuals                                   30149.00\n",
       "Seed                                        21922.92\n",
       "Stock Variation                             58749.83\n",
       "Total Population - Both sexes             1031585.00\n",
       "Tourist consumption                           416.00\n",
       "Name: Y2014, dtype: float64"
      ]
     },
     "execution_count": 17,
     "metadata": {},
     "output_type": "execute_result"
    }
   ],
   "source": [
    "food_balance.groupby('Element').Y2014.sum()"
   ]
  },
  {
   "cell_type": "code",
   "execution_count": 25,
   "id": "55c3c5da-e227-4c52-99d8-b1e09f4799c4",
   "metadata": {},
   "outputs": [
    {
     "data": {
      "text/plain": [
       "Element\n",
       "Domestic supply quantity                  2161192.10\n",
       "Production                                2075072.89\n",
       "Food                                      1303841.28\n",
       "Total Population - Both sexes             1140605.00\n",
       "Food supply (kcal/capita/day)              455261.00\n",
       "Processing                                 308429.00\n",
       "Import Quantity                            287997.09\n",
       "Feed                                       233489.68\n",
       "Export Quantity                            181594.80\n",
       "Losses                                     163902.00\n",
       "Other uses (non-food)                       91300.97\n",
       "Food supply quantity (kg/capita/yr)         49056.85\n",
       "Residuals                                   34864.00\n",
       "Seed                                        25263.14\n",
       "Stock Variation                             20577.91\n",
       "Protein supply quantity (g/capita/day)      11833.56\n",
       "Fat supply quantity (g/capita/day)          10258.69\n",
       "Tourist consumption                            90.00\n",
       "Name: Y2018, dtype: float64"
      ]
     },
     "execution_count": 25,
     "metadata": {},
     "output_type": "execute_result"
    }
   ],
   "source": [
    "food_balance.groupby('Element').Y2018.sum().sort_values(ascending=False)"
   ]
  },
  {
   "cell_type": "code",
   "execution_count": 38,
   "id": "c047e06d-fafd-4797-b87f-f0d835f5b63c",
   "metadata": {},
   "outputs": [
    {
     "data": {
      "text/html": [
       "<div>\n",
       "<style scoped>\n",
       "    .dataframe tbody tr th:only-of-type {\n",
       "        vertical-align: middle;\n",
       "    }\n",
       "\n",
       "    .dataframe tbody tr th {\n",
       "        vertical-align: top;\n",
       "    }\n",
       "\n",
       "    .dataframe thead th {\n",
       "        text-align: right;\n",
       "    }\n",
       "</style>\n",
       "<table border=\"1\" class=\"dataframe\">\n",
       "  <thead>\n",
       "    <tr style=\"text-align: right;\">\n",
       "      <th></th>\n",
       "      <th>Area Code</th>\n",
       "      <th>Item Code</th>\n",
       "      <th>Element Code</th>\n",
       "      <th>Y2014</th>\n",
       "      <th>Y2015</th>\n",
       "      <th>Y2016</th>\n",
       "      <th>Y2017</th>\n",
       "      <th>Y2018</th>\n",
       "    </tr>\n",
       "    <tr>\n",
       "      <th>Element</th>\n",
       "      <th></th>\n",
       "      <th></th>\n",
       "      <th></th>\n",
       "      <th></th>\n",
       "      <th></th>\n",
       "      <th></th>\n",
       "      <th></th>\n",
       "      <th></th>\n",
       "    </tr>\n",
       "  </thead>\n",
       "  <tbody>\n",
       "    <tr>\n",
       "      <th>Import Quantity</th>\n",
       "      <td>688174</td>\n",
       "      <td>13795966</td>\n",
       "      <td>28834929</td>\n",
       "      <td>274144.48</td>\n",
       "      <td>267018.46</td>\n",
       "      <td>286582.78</td>\n",
       "      <td>294559.09</td>\n",
       "      <td>287997.09</td>\n",
       "    </tr>\n",
       "  </tbody>\n",
       "</table>\n",
       "</div>"
      ],
      "text/plain": [
       "                 Area Code  Item Code  Element Code      Y2014      Y2015  \\\n",
       "Element                                                                     \n",
       "Import Quantity     688174   13795966      28834929  274144.48  267018.46   \n",
       "\n",
       "                     Y2016      Y2017      Y2018  \n",
       "Element                                           \n",
       "Import Quantity  286582.78  294559.09  287997.09  "
      ]
     },
     "execution_count": 38,
     "metadata": {},
     "output_type": "execute_result"
    }
   ],
   "source": [
    "food_balance[food_balance['Element']=='Import Quantity'].groupby(['Element']).sum()"
   ]
  },
  {
   "cell_type": "code",
   "execution_count": 39,
   "id": "adb9bd7d-14e7-40cb-8655-3c322f6c35d2",
   "metadata": {},
   "outputs": [
    {
     "data": {
      "text/html": [
       "<div>\n",
       "<style scoped>\n",
       "    .dataframe tbody tr th:only-of-type {\n",
       "        vertical-align: middle;\n",
       "    }\n",
       "\n",
       "    .dataframe tbody tr th {\n",
       "        vertical-align: top;\n",
       "    }\n",
       "\n",
       "    .dataframe thead th {\n",
       "        text-align: right;\n",
       "    }\n",
       "</style>\n",
       "<table border=\"1\" class=\"dataframe\">\n",
       "  <thead>\n",
       "    <tr style=\"text-align: right;\">\n",
       "      <th></th>\n",
       "      <th>Area Code</th>\n",
       "      <th>Item Code</th>\n",
       "      <th>Element Code</th>\n",
       "      <th>Y2014</th>\n",
       "      <th>Y2015</th>\n",
       "      <th>Y2016</th>\n",
       "      <th>Y2017</th>\n",
       "      <th>Y2018</th>\n",
       "    </tr>\n",
       "    <tr>\n",
       "      <th>Element</th>\n",
       "      <th></th>\n",
       "      <th></th>\n",
       "      <th></th>\n",
       "      <th></th>\n",
       "      <th></th>\n",
       "      <th></th>\n",
       "      <th></th>\n",
       "      <th></th>\n",
       "    </tr>\n",
       "  </thead>\n",
       "  <tbody>\n",
       "    <tr>\n",
       "      <th>Import Quantity</th>\n",
       "      <td>448</td>\n",
       "      <td>301030</td>\n",
       "      <td>628432</td>\n",
       "      <td>34940.12</td>\n",
       "      <td>37841.91</td>\n",
       "      <td>36736.08</td>\n",
       "      <td>36059.29</td>\n",
       "      <td>36238.29</td>\n",
       "    </tr>\n",
       "  </tbody>\n",
       "</table>\n",
       "</div>"
      ],
      "text/plain": [
       "                 Area Code  Item Code  Element Code     Y2014     Y2015  \\\n",
       "Element                                                                   \n",
       "Import Quantity        448     301030        628432  34940.12  37841.91   \n",
       "\n",
       "                    Y2016     Y2017     Y2018  \n",
       "Element                                        \n",
       "Import Quantity  36736.08  36059.29  36238.29  "
      ]
     },
     "execution_count": 39,
     "metadata": {},
     "output_type": "execute_result"
    }
   ],
   "source": [
    "food_balance[(food_balance['Area']=='Algeria')&(food_balance['Element']=='Import Quantity') ].groupby(['Element']).sum()"
   ]
  },
  {
   "cell_type": "code",
   "execution_count": 41,
   "id": "dd175ab1-af94-43cb-9b51-e94a6446b9f9",
   "metadata": {},
   "outputs": [],
   "source": [
    "lst = [[35, 'Portugal', 94], [33, 'Argentina', 93], [30 , 'Brazil', 92]]\n",
    "\n",
    "col = ['Age','Nationality','Overall']"
   ]
  },
  {
   "cell_type": "code",
   "execution_count": 44,
   "id": "87812848-b2d8-40f6-8cf6-510c1d18fa10",
   "metadata": {},
   "outputs": [],
   "source": [
    "df=pd.DataFrame(lst, columns=col, index=[i for i in range(1,4)])"
   ]
  },
  {
   "cell_type": "code",
   "execution_count": 45,
   "id": "821f63fe-ebf5-4b3b-8f44-083503730bcd",
   "metadata": {},
   "outputs": [
    {
     "data": {
      "text/plain": [
       "(3, 3)"
      ]
     },
     "execution_count": 45,
     "metadata": {},
     "output_type": "execute_result"
    }
   ],
   "source": [
    "df.shape"
   ]
  },
  {
   "cell_type": "code",
   "execution_count": 46,
   "id": "0f38b0b3-2ed6-4579-8981-af417cc20eb7",
   "metadata": {},
   "outputs": [
    {
     "data": {
      "text/plain": [
       "'e'"
      ]
     },
     "execution_count": 46,
     "metadata": {},
     "output_type": "execute_result"
    }
   ],
   "source": [
    "S = [['him', 'sell'], [90, 28, 43]]\n",
    "\n",
    "S[0][1][1]"
   ]
  },
  {
   "cell_type": "code",
   "execution_count": 47,
   "id": "32f95a9d-491a-4a66-b5fc-542429e35e78",
   "metadata": {},
   "outputs": [
    {
     "ename": "TypeError",
     "evalue": "'tuple' object does not support item assignment",
     "output_type": "error",
     "traceback": [
      "\u001b[1;31m---------------------------------------------------------------------------\u001b[0m",
      "\u001b[1;31mTypeError\u001b[0m                                 Traceback (most recent call last)",
      "\u001b[1;32mC:\\Users\\Public\\Documents\\Wondershare\\CreatorTemp/ipykernel_11328/3917941094.py\u001b[0m in \u001b[0;36m<module>\u001b[1;34m\u001b[0m\n\u001b[0;32m      1\u001b[0m \u001b[0mmy_tuppy\u001b[0m \u001b[1;33m=\u001b[0m \u001b[1;33m(\u001b[0m\u001b[1;36m1\u001b[0m\u001b[1;33m,\u001b[0m\u001b[1;36m2\u001b[0m\u001b[1;33m,\u001b[0m\u001b[1;36m5\u001b[0m\u001b[1;33m,\u001b[0m\u001b[1;36m8\u001b[0m\u001b[1;33m)\u001b[0m\u001b[1;33m\u001b[0m\u001b[1;33m\u001b[0m\u001b[0m\n\u001b[0;32m      2\u001b[0m \u001b[1;33m\u001b[0m\u001b[0m\n\u001b[1;32m----> 3\u001b[1;33m \u001b[0mmy_tuppy\u001b[0m\u001b[1;33m[\u001b[0m\u001b[1;36m2\u001b[0m\u001b[1;33m]\u001b[0m \u001b[1;33m=\u001b[0m \u001b[1;36m6\u001b[0m\u001b[1;33m\u001b[0m\u001b[1;33m\u001b[0m\u001b[0m\n\u001b[0m",
      "\u001b[1;31mTypeError\u001b[0m: 'tuple' object does not support item assignment"
     ]
    }
   ],
   "source": [
    "my_tuppy = (1,2,5,8)\n",
    "\n",
    "my_tuppy[2] = 6"
   ]
  },
  {
   "cell_type": "code",
   "execution_count": 49,
   "id": "61dbe790-7494-418a-a5a7-a587b823500d",
   "metadata": {},
   "outputs": [
    {
     "name": "stdout",
     "output_type": "stream",
     "text": [
      "8\n"
     ]
    }
   ],
   "source": [
    "y = [(2, 4), (7, 8), (1, 5, 9)]\n",
    "print(y[1][-1])"
   ]
  },
  {
   "cell_type": "code",
   "execution_count": 74,
   "id": "3c084b60-5e8a-4c21-9b7e-e227dbb37341",
   "metadata": {},
   "outputs": [
    {
     "data": {
      "text/plain": [
       "0.02388919930163992"
      ]
     },
     "execution_count": 74,
     "metadata": {},
     "output_type": "execute_result"
    }
   ],
   "source": [
    "food_balance['Element Code'].corr(food_balance['Y2015'])"
   ]
  },
  {
   "cell_type": "code",
   "execution_count": 73,
   "id": "88c4c341-6348-40ec-9636-3ba6077c05fc",
   "metadata": {},
   "outputs": [
    {
     "data": {
      "text/plain": [
       "0.023443997584961428"
      ]
     },
     "execution_count": 73,
     "metadata": {},
     "output_type": "execute_result"
    }
   ],
   "source": [
    "food_balance['Element Code'].corr(food_balance['Y2016'])"
   ]
  },
  {
   "cell_type": "code",
   "execution_count": 75,
   "id": "aca4c2ee-38d6-461e-a272-5e6cad812a7c",
   "metadata": {},
   "outputs": [
    {
     "data": {
      "text/plain": [
       "0.024456819495221795"
      ]
     },
     "execution_count": 75,
     "metadata": {},
     "output_type": "execute_result"
    }
   ],
   "source": [
    "food_balance['Element Code'].corr(food_balance['Y2014'])"
   ]
  },
  {
   "cell_type": "code",
   "execution_count": 76,
   "id": "41efb689-beab-447b-8f67-ffc288c029c1",
   "metadata": {},
   "outputs": [
    {
     "data": {
      "text/plain": [
       "0.02425400776004572"
      ]
     },
     "execution_count": 76,
     "metadata": {},
     "output_type": "execute_result"
    }
   ],
   "source": [
    "food_balance['Element Code'].corr(food_balance['Y2017'])"
   ]
  },
  {
   "cell_type": "code",
   "execution_count": null,
   "id": "04b9cc88-5c2e-4a1d-a7bf-d950b29b33cf",
   "metadata": {},
   "outputs": [],
   "source": []
  }
 ],
 "metadata": {
  "kernelspec": {
   "display_name": "Python 3 (ipykernel)",
   "language": "python",
   "name": "python3"
  },
  "language_info": {
   "codemirror_mode": {
    "name": "ipython",
    "version": 3
   },
   "file_extension": ".py",
   "mimetype": "text/x-python",
   "name": "python",
   "nbconvert_exporter": "python",
   "pygments_lexer": "ipython3",
   "version": "3.9.7"
  }
 },
 "nbformat": 4,
 "nbformat_minor": 5
}
