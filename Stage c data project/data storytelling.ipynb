{
 "cells": [
  {
   "cell_type": "markdown",
   "id": "2f946d82",
   "metadata": {},
   "source": [
    "### Objective: To scrape the data of COVID-19 cases from their website and convert it into a format that in understandable by the computer"
   ]
  },
  {
   "cell_type": "code",
   "execution_count": 1,
   "id": "9089b7fa",
   "metadata": {},
   "outputs": [],
   "source": [
    "# import the required libraries\n",
    "from bs4 import BeautifulSoup\n",
    "import requests\n",
    "from csv import writer\n",
    "import pandas as pd\n",
    "import matplotlib.pyplot as plt\n",
    "import seaborn as sns"
   ]
  },
  {
   "cell_type": "code",
   "execution_count": 2,
   "id": "49ce688b",
   "metadata": {},
   "outputs": [],
   "source": [
    "# url of the ncdc microsite\n",
    "url = 'https://covid19.ncdc.gov.ng/'"
   ]
  },
  {
   "cell_type": "code",
   "execution_count": 3,
   "id": "49901124",
   "metadata": {},
   "outputs": [
    {
     "data": {
      "text/plain": [
       "<Response [200]>"
      ]
     },
     "execution_count": 3,
     "metadata": {},
     "output_type": "execute_result"
    }
   ],
   "source": [
    "# instantiate a variable\n",
    "page = requests.get(url)\n",
    "page"
   ]
  },
  {
   "cell_type": "code",
   "execution_count": 4,
   "id": "cb6ba589",
   "metadata": {},
   "outputs": [],
   "source": [
    "# Get the content of the html page\n",
    "covid = BeautifulSoup(page.content, 'html.parser')"
   ]
  },
  {
   "cell_type": "code",
   "execution_count": 5,
   "id": "c1356fc1",
   "metadata": {},
   "outputs": [],
   "source": [
    "# Since we are interested in scraping the table, we need to find the section for table in the script\n",
    "table = covid.find('table')"
   ]
  },
  {
   "cell_type": "code",
   "execution_count": 6,
   "id": "b2b57c36",
   "metadata": {},
   "outputs": [],
   "source": [
    "rows = table.find_all(\"tr\")"
   ]
  },
  {
   "cell_type": "code",
   "execution_count": 7,
   "id": "bab130ca-cf5e-4827-bd13-5b007f227be7",
   "metadata": {
    "scrolled": true
   },
   "outputs": [
    {
     "data": {
      "text/plain": [
       "list"
      ]
     },
     "execution_count": 7,
     "metadata": {},
     "output_type": "execute_result"
    }
   ],
   "source": [
    "covid=[]\n",
    "type(covid)"
   ]
  },
  {
   "cell_type": "code",
   "execution_count": 8,
   "id": "845737de-bae7-4151-beca-831132be18e7",
   "metadata": {
    "scrolled": true
   },
   "outputs": [
    {
     "name": "stdout",
     "output_type": "stream",
     "text": [
      "['Lagos', '98,891', '60', '98,062', '769']\n",
      "['FCT', '28,364', '14', '28,102', '248']\n",
      "['Rivers', '16,576', '60', '16,362', '154']\n",
      "['Kaduna', '11,222', '6', '11,128', '88']\n",
      "['Plateau', '10,247', '2', '10,170', '75']\n",
      "['Oyo', '10,211', '75', '9,934', '202']\n",
      "['Edo', '7,694', '9', '7,364', '321']\n",
      "['Ogun', '5,810', '11', '5,717', '82']\n",
      "['Delta', '5,363', '82', '5,170', '111']\n",
      "['Ondo', '5,173', '315', '4,749', '109']\n",
      "['Kano', '4,969', '11', '4,831', '127']\n",
      "['Akwa Ibom', '4,657', '27', '4,586', '44']\n",
      "['Kwara', '4,579', '340', '4,175', '64']\n",
      "['Gombe', '3,307', '83', '3,158', '66']\n",
      "['Osun', '3,305', '38', '3,175', '92']\n",
      "['Enugu', '2,952', '13', '2,910', '29']\n",
      "['Anambra', '2,825', '46', '2,760', '19']\n",
      "['Nasarawa', '2,719', '335', '2,345', '39']\n",
      "['Imo', '2,550', '17', '2,475', '58']\n",
      "['Katsina', '2,416', '4', '2,375', '37']\n",
      "['Abia', '2,166', '12', '2,120', '34']\n",
      "['Benue', '2,129', '340', '1,764', '25']\n",
      "['Ebonyi', '2,064', '28', '2,004', '32']\n",
      "['Ekiti', '1,982', '31', '1,923', '28']\n",
      "['Bauchi', '1,939', '8', '1,907', '24']\n",
      "['Borno', '1,629', '5', '1,580', '44']\n",
      "['Taraba', '1,473', '62', '1,377', '34']\n",
      "['Bayelsa', '1,312', '7', '1,277', '28']\n",
      "['Adamawa', '1,203', '68', '1,103', '32']\n",
      "['Niger', '1,148', '130', '998', '20']\n",
      "['Cross River', '823', '9', '789', '25']\n",
      "['Sokoto', '817', '0', '789', '28']\n",
      "['Jigawa', '667', '2', '647', '18']\n",
      "['Yobe', '564', '65', '490', '9']\n",
      "['Kebbi', '480', '10', '454', '16']\n",
      "['Zamfara', '375', '0', '366', '9']\n",
      "['Kogi', '5', '0', '3', '2']\n"
     ]
    }
   ],
   "source": [
    "for row in rows[1:]:\n",
    "    cells = row.find_all(['td','th'])\n",
    "    \n",
    "    cells_text = [cell.get_text(strip = True) for cell in cells]\n",
    "    print(cells_text)\n",
    "    covid.append(cells_text)"
   ]
  },
  {
   "cell_type": "code",
   "execution_count": 9,
   "id": "6390924e-b483-4e1c-b5e1-61706aeaa76e",
   "metadata": {},
   "outputs": [
    {
     "data": {
      "text/html": [
       "<div>\n",
       "<style scoped>\n",
       "    .dataframe tbody tr th:only-of-type {\n",
       "        vertical-align: middle;\n",
       "    }\n",
       "\n",
       "    .dataframe tbody tr th {\n",
       "        vertical-align: top;\n",
       "    }\n",
       "\n",
       "    .dataframe thead th {\n",
       "        text-align: right;\n",
       "    }\n",
       "</style>\n",
       "<table border=\"1\" class=\"dataframe\">\n",
       "  <thead>\n",
       "    <tr style=\"text-align: right;\">\n",
       "      <th></th>\n",
       "      <th>0</th>\n",
       "      <th>1</th>\n",
       "      <th>2</th>\n",
       "      <th>3</th>\n",
       "      <th>4</th>\n",
       "    </tr>\n",
       "  </thead>\n",
       "  <tbody>\n",
       "    <tr>\n",
       "      <th>0</th>\n",
       "      <td>Lagos</td>\n",
       "      <td>98,891</td>\n",
       "      <td>60</td>\n",
       "      <td>98,062</td>\n",
       "      <td>769</td>\n",
       "    </tr>\n",
       "    <tr>\n",
       "      <th>1</th>\n",
       "      <td>FCT</td>\n",
       "      <td>28,364</td>\n",
       "      <td>14</td>\n",
       "      <td>28,102</td>\n",
       "      <td>248</td>\n",
       "    </tr>\n",
       "    <tr>\n",
       "      <th>2</th>\n",
       "      <td>Rivers</td>\n",
       "      <td>16,576</td>\n",
       "      <td>60</td>\n",
       "      <td>16,362</td>\n",
       "      <td>154</td>\n",
       "    </tr>\n",
       "    <tr>\n",
       "      <th>3</th>\n",
       "      <td>Kaduna</td>\n",
       "      <td>11,222</td>\n",
       "      <td>6</td>\n",
       "      <td>11,128</td>\n",
       "      <td>88</td>\n",
       "    </tr>\n",
       "    <tr>\n",
       "      <th>4</th>\n",
       "      <td>Plateau</td>\n",
       "      <td>10,247</td>\n",
       "      <td>2</td>\n",
       "      <td>10,170</td>\n",
       "      <td>75</td>\n",
       "    </tr>\n",
       "  </tbody>\n",
       "</table>\n",
       "</div>"
      ],
      "text/plain": [
       "         0       1   2       3    4\n",
       "0    Lagos  98,891  60  98,062  769\n",
       "1      FCT  28,364  14  28,102  248\n",
       "2   Rivers  16,576  60  16,362  154\n",
       "3   Kaduna  11,222   6  11,128   88\n",
       "4  Plateau  10,247   2  10,170   75"
      ]
     },
     "execution_count": 9,
     "metadata": {},
     "output_type": "execute_result"
    }
   ],
   "source": [
    "covid= pd.DataFrame(covid)\n",
    "covid.head()"
   ]
  },
  {
   "cell_type": "code",
   "execution_count": 10,
   "id": "23dae781-d9d8-4f35-ab60-d30b5de6b8fd",
   "metadata": {},
   "outputs": [
    {
     "data": {
      "text/html": [
       "<div>\n",
       "<style scoped>\n",
       "    .dataframe tbody tr th:only-of-type {\n",
       "        vertical-align: middle;\n",
       "    }\n",
       "\n",
       "    .dataframe tbody tr th {\n",
       "        vertical-align: top;\n",
       "    }\n",
       "\n",
       "    .dataframe thead th {\n",
       "        text-align: right;\n",
       "    }\n",
       "</style>\n",
       "<table border=\"1\" class=\"dataframe\">\n",
       "  <thead>\n",
       "    <tr style=\"text-align: right;\">\n",
       "      <th></th>\n",
       "      <th>States Affected</th>\n",
       "      <th>No. of Cases (Lab Confirmed)</th>\n",
       "      <th>No. of Cases (on admission)</th>\n",
       "      <th>No. Discharged</th>\n",
       "      <th>No. of Deaths</th>\n",
       "    </tr>\n",
       "  </thead>\n",
       "  <tbody>\n",
       "    <tr>\n",
       "      <th>0</th>\n",
       "      <td>Lagos</td>\n",
       "      <td>98,891</td>\n",
       "      <td>60</td>\n",
       "      <td>98,062</td>\n",
       "      <td>769</td>\n",
       "    </tr>\n",
       "    <tr>\n",
       "      <th>1</th>\n",
       "      <td>FCT</td>\n",
       "      <td>28,364</td>\n",
       "      <td>14</td>\n",
       "      <td>28,102</td>\n",
       "      <td>248</td>\n",
       "    </tr>\n",
       "    <tr>\n",
       "      <th>2</th>\n",
       "      <td>Rivers</td>\n",
       "      <td>16,576</td>\n",
       "      <td>60</td>\n",
       "      <td>16,362</td>\n",
       "      <td>154</td>\n",
       "    </tr>\n",
       "    <tr>\n",
       "      <th>3</th>\n",
       "      <td>Kaduna</td>\n",
       "      <td>11,222</td>\n",
       "      <td>6</td>\n",
       "      <td>11,128</td>\n",
       "      <td>88</td>\n",
       "    </tr>\n",
       "    <tr>\n",
       "      <th>4</th>\n",
       "      <td>Plateau</td>\n",
       "      <td>10,247</td>\n",
       "      <td>2</td>\n",
       "      <td>10,170</td>\n",
       "      <td>75</td>\n",
       "    </tr>\n",
       "  </tbody>\n",
       "</table>\n",
       "</div>"
      ],
      "text/plain": [
       "  States Affected No. of Cases (Lab Confirmed) No. of Cases (on admission)  \\\n",
       "0           Lagos                       98,891                          60   \n",
       "1             FCT                       28,364                          14   \n",
       "2          Rivers                       16,576                          60   \n",
       "3          Kaduna                       11,222                           6   \n",
       "4         Plateau                       10,247                           2   \n",
       "\n",
       "  No. Discharged No. of Deaths  \n",
       "0         98,062           769  \n",
       "1         28,102           248  \n",
       "2         16,362           154  \n",
       "3         11,128            88  \n",
       "4         10,170            75  "
      ]
     },
     "execution_count": 10,
     "metadata": {},
     "output_type": "execute_result"
    }
   ],
   "source": [
    "#renaming the columns\n",
    "columns={0:'States Affected', 1:'No. of Cases (Lab Confirmed)',2:'No. of Cases (on admission)', 3:'No. Discharged', 4:'No. of Deaths'}\n",
    "covid.rename(columns=columns, inplace=True)\n",
    "covid.head()"
   ]
  },
  {
   "cell_type": "code",
   "execution_count": 11,
   "id": "b1d8ed53-5c63-49f2-a600-bbdc5afdc06e",
   "metadata": {},
   "outputs": [
    {
     "data": {
      "text/html": [
       "<div>\n",
       "<style scoped>\n",
       "    .dataframe tbody tr th:only-of-type {\n",
       "        vertical-align: middle;\n",
       "    }\n",
       "\n",
       "    .dataframe tbody tr th {\n",
       "        vertical-align: top;\n",
       "    }\n",
       "\n",
       "    .dataframe thead th {\n",
       "        text-align: right;\n",
       "    }\n",
       "</style>\n",
       "<table border=\"1\" class=\"dataframe\">\n",
       "  <thead>\n",
       "    <tr style=\"text-align: right;\">\n",
       "      <th></th>\n",
       "      <th>States Affected</th>\n",
       "      <th>No. of Cases (Lab Confirmed)</th>\n",
       "      <th>No. of Cases (on admission)</th>\n",
       "      <th>No. Discharged</th>\n",
       "      <th>No. of Deaths</th>\n",
       "    </tr>\n",
       "  </thead>\n",
       "  <tbody>\n",
       "    <tr>\n",
       "      <th>0</th>\n",
       "      <td>Lagos</td>\n",
       "      <td>98891</td>\n",
       "      <td>60</td>\n",
       "      <td>98062</td>\n",
       "      <td>769</td>\n",
       "    </tr>\n",
       "    <tr>\n",
       "      <th>1</th>\n",
       "      <td>FCT</td>\n",
       "      <td>28364</td>\n",
       "      <td>14</td>\n",
       "      <td>28102</td>\n",
       "      <td>248</td>\n",
       "    </tr>\n",
       "    <tr>\n",
       "      <th>2</th>\n",
       "      <td>Rivers</td>\n",
       "      <td>16576</td>\n",
       "      <td>60</td>\n",
       "      <td>16362</td>\n",
       "      <td>154</td>\n",
       "    </tr>\n",
       "    <tr>\n",
       "      <th>3</th>\n",
       "      <td>Kaduna</td>\n",
       "      <td>11222</td>\n",
       "      <td>6</td>\n",
       "      <td>11128</td>\n",
       "      <td>88</td>\n",
       "    </tr>\n",
       "    <tr>\n",
       "      <th>4</th>\n",
       "      <td>Plateau</td>\n",
       "      <td>10247</td>\n",
       "      <td>2</td>\n",
       "      <td>10170</td>\n",
       "      <td>75</td>\n",
       "    </tr>\n",
       "  </tbody>\n",
       "</table>\n",
       "</div>"
      ],
      "text/plain": [
       "  States Affected No. of Cases (Lab Confirmed) No. of Cases (on admission)  \\\n",
       "0           Lagos                        98891                          60   \n",
       "1             FCT                        28364                          14   \n",
       "2          Rivers                        16576                          60   \n",
       "3          Kaduna                        11222                           6   \n",
       "4         Plateau                        10247                           2   \n",
       "\n",
       "  No. Discharged No. of Deaths  \n",
       "0          98062           769  \n",
       "1          28102           248  \n",
       "2          16362           154  \n",
       "3          11128            88  \n",
       "4          10170            75  "
      ]
     },
     "execution_count": 11,
     "metadata": {},
     "output_type": "execute_result"
    }
   ],
   "source": [
    "covid['No. of Cases (Lab Confirmed)']=covid['No. of Cases (Lab Confirmed)'].str.replace(',','')\n",
    "covid['No. Discharged']=covid['No. Discharged'].str.replace(',','')\n",
    "covid.head()"
   ]
  },
  {
   "cell_type": "code",
   "execution_count": 12,
   "id": "789de059-d82a-4fa1-9b9f-127de22bb267",
   "metadata": {},
   "outputs": [
    {
     "name": "stdout",
     "output_type": "stream",
     "text": [
      "<class 'pandas.core.frame.DataFrame'>\n",
      "RangeIndex: 37 entries, 0 to 36\n",
      "Data columns (total 5 columns):\n",
      " #   Column                        Non-Null Count  Dtype \n",
      "---  ------                        --------------  ----- \n",
      " 0   States Affected               37 non-null     object\n",
      " 1   No. of Cases (Lab Confirmed)  37 non-null     int32 \n",
      " 2   No. of Cases (on admission)   37 non-null     int32 \n",
      " 3   No. Discharged                37 non-null     int32 \n",
      " 4   No. of Deaths                 37 non-null     int32 \n",
      "dtypes: int32(4), object(1)\n",
      "memory usage: 1016.0+ bytes\n"
     ]
    }
   ],
   "source": [
    "numeric=['No. of Cases (Lab Confirmed)','No. of Cases (on admission)','No. Discharged','No. of Deaths']\n",
    "for column in numeric:\n",
    "    covid[column]=covid[column].astype('int')\n",
    "covid.info()"
   ]
  },
  {
   "cell_type": "markdown",
   "id": "84687fc1-cd31-41b4-82e8-d508aecf3705",
   "metadata": {},
   "source": [
    "# Visualizations"
   ]
  },
  {
   "cell_type": "code",
   "execution_count": 36,
   "id": "da207cc8",
   "metadata": {
    "tags": []
   },
   "outputs": [
    {
     "data": {
      "image/png": "[encoded data removed]",
      "text/plain": [
       "<Figure size 720x360 with 1 Axes>"
      ]
     },
     "metadata": {
      "needs_background": "light"
     },
     "output_type": "display_data"
    },
    {
     "data": {
      "text/plain": [
       "<Figure size 432x288 with 0 Axes>"
      ]
     },
     "metadata": {},
     "output_type": "display_data"
    }
   ],
   "source": [
    "fig.set_size_inches(15,10)\n",
    "\n",
    "f=sns.catplot(x='States Affected', y='No. of Cases (on admission)',data=covid,  kind='bar')\n",
    "f.fig.set_figwidth(10)\n",
    "plt.xticks(rotation=90)\n",
    "plt.title('Covid Admission in Nigerian States')\n",
    "plt.ylabel('')\n",
    "plt.tight_layout()\n",
    "fig=plt.gcf()\n",
    "plt.show()\n",
    "plt.tight_layout()\n",
    "fig.savefig('barchart of current admission.png',bbox_inches = \"tight\")\n"
   ]
  },
  {
   "cell_type": "code",
   "execution_count": 33,
   "id": "56eb2de7",
   "metadata": {},
   "outputs": [
    {
     "data": {
      "image/png": "[encoded data removed]",
      "text/plain": [
       "<Figure size 720x360 with 1 Axes>"
      ]
     },
     "metadata": {
      "needs_background": "light"
     },
     "output_type": "display_data"
    }
   ],
   "source": [
    "g=sns.catplot(x='States Affected', y='No. of Cases (Lab Confirmed)',data=covid,  kind='bar')\n",
    "g.fig.set_figwidth(10)\n",
    "plt.xticks(rotation=90)\n",
    "plt.title('Confirmed Covid Cases in Nigerian States')\n",
    "plt.ylabel('')\n",
    "plt.tight_layout()\n",
    "fig=plt.gcf()\n",
    "plt.show()\n",
    "fig.savefig('barchart of confirmed cases.png',bbox_inches = \"tight\")"
   ]
  },
  {
   "cell_type": "code",
   "execution_count": 34,
   "id": "afe4834f-cad3-41f6-8aed-eb8b8317abc3",
   "metadata": {},
   "outputs": [
    {
     "data": {
      "image/png": "[encoded data removed]",
      "text/plain": [
       "<Figure size 720x360 with 1 Axes>"
      ]
     },
     "metadata": {
      "needs_background": "light"
     },
     "output_type": "display_data"
    }
   ],
   "source": [
    "\n",
    "f=sns.catplot(x='States Affected', y='No. Discharged',data=covid,  kind='bar')\n",
    "f.fig.set_figwidth(10)\n",
    "plt.xticks(rotation=90)\n",
    "plt.title('People Discharged of Covid in Nigerian States')\n",
    "plt.ylabel('')\n",
    "plt.tight_layout()\n",
    "fig=plt.gcf()\n",
    "plt.show()\n",
    "fig.savefig('barchart of discharged.png',bbox_inches =\"tight\")\n"
   ]
  },
  {
   "cell_type": "code",
   "execution_count": 35,
   "id": "f35aa736-4420-4ce4-bc75-e2c90932cc60",
   "metadata": {},
   "outputs": [
    {
     "data": {
      "image/png": "[encoded data removed]",
      "text/plain": [
       "<Figure size 720x360 with 1 Axes>"
      ]
     },
     "metadata": {
      "needs_background": "light"
     },
     "output_type": "display_data"
    }
   ],
   "source": [
    "f=sns.catplot(x='States Affected', y='No. of Deaths',data=covid,  kind='bar')\n",
    "f.fig.set_figwidth(10)\n",
    "plt.xticks(rotation=90)\n",
    "plt.title('No. of Deaths by States')\n",
    "plt.ylabel('')\n",
    "plt.tight_layout()\n",
    "fig=plt.gcf()\n",
    "plt.show()\n",
    "fig.savefig('barchart of death.png',bbox_inches = \"tight\")"
   ]
  },
  {
   "cell_type": "code",
   "execution_count": 37,
   "id": "cfd29acb-789f-47e8-9731-c751467e4e3f",
   "metadata": {},
   "outputs": [],
   "source": [
    "covid['percent_death']=covid['No. of Deaths']/covid['No. of Cases (Lab Confirmed)']*100"
   ]
  },
  {
   "cell_type": "code",
   "execution_count": 38,
   "id": "8b5eb416-468c-414e-96f6-032f8d334e8b",
   "metadata": {},
   "outputs": [
    {
     "data": {
      "text/html": [
       "<div>\n",
       "<style scoped>\n",
       "    .dataframe tbody tr th:only-of-type {\n",
       "        vertical-align: middle;\n",
       "    }\n",
       "\n",
       "    .dataframe tbody tr th {\n",
       "        vertical-align: top;\n",
       "    }\n",
       "\n",
       "    .dataframe thead th {\n",
       "        text-align: right;\n",
       "    }\n",
       "</style>\n",
       "<table border=\"1\" class=\"dataframe\">\n",
       "  <thead>\n",
       "    <tr style=\"text-align: right;\">\n",
       "      <th></th>\n",
       "      <th>States Affected</th>\n",
       "      <th>No. of Cases (Lab Confirmed)</th>\n",
       "      <th>No. of Cases (on admission)</th>\n",
       "      <th>No. Discharged</th>\n",
       "      <th>No. of Deaths</th>\n",
       "      <th>percent_death</th>\n",
       "    </tr>\n",
       "  </thead>\n",
       "  <tbody>\n",
       "    <tr>\n",
       "      <th>0</th>\n",
       "      <td>Lagos</td>\n",
       "      <td>98891</td>\n",
       "      <td>60</td>\n",
       "      <td>98062</td>\n",
       "      <td>769</td>\n",
       "      <td>0.777624</td>\n",
       "    </tr>\n",
       "    <tr>\n",
       "      <th>1</th>\n",
       "      <td>FCT</td>\n",
       "      <td>28364</td>\n",
       "      <td>14</td>\n",
       "      <td>28102</td>\n",
       "      <td>248</td>\n",
       "      <td>0.874348</td>\n",
       "    </tr>\n",
       "    <tr>\n",
       "      <th>2</th>\n",
       "      <td>Rivers</td>\n",
       "      <td>16576</td>\n",
       "      <td>60</td>\n",
       "      <td>16362</td>\n",
       "      <td>154</td>\n",
       "      <td>0.929054</td>\n",
       "    </tr>\n",
       "    <tr>\n",
       "      <th>3</th>\n",
       "      <td>Kaduna</td>\n",
       "      <td>11222</td>\n",
       "      <td>6</td>\n",
       "      <td>11128</td>\n",
       "      <td>88</td>\n",
       "      <td>0.784174</td>\n",
       "    </tr>\n",
       "    <tr>\n",
       "      <th>4</th>\n",
       "      <td>Plateau</td>\n",
       "      <td>10247</td>\n",
       "      <td>2</td>\n",
       "      <td>10170</td>\n",
       "      <td>75</td>\n",
       "      <td>0.731922</td>\n",
       "    </tr>\n",
       "  </tbody>\n",
       "</table>\n",
       "</div>"
      ],
      "text/plain": [
       "  States Affected  No. of Cases (Lab Confirmed)  No. of Cases (on admission)  \\\n",
       "0           Lagos                         98891                           60   \n",
       "1             FCT                         28364                           14   \n",
       "2          Rivers                         16576                           60   \n",
       "3          Kaduna                         11222                            6   \n",
       "4         Plateau                         10247                            2   \n",
       "\n",
       "   No. Discharged  No. of Deaths  percent_death  \n",
       "0           98062            769       0.777624  \n",
       "1           28102            248       0.874348  \n",
       "2           16362            154       0.929054  \n",
       "3           11128             88       0.784174  \n",
       "4           10170             75       0.731922  "
      ]
     },
     "execution_count": 38,
     "metadata": {},
     "output_type": "execute_result"
    }
   ],
   "source": [
    "covid.head()"
   ]
  },
  {
   "cell_type": "code",
   "execution_count": 39,
   "id": "2eb70b12-4509-423a-b7e1-a8ed89aee526",
   "metadata": {},
   "outputs": [
    {
     "data": {
      "image/png": "[encoded data removed]",
      "text/plain": [
       "<Figure size 720x360 with 1 Axes>"
      ]
     },
     "metadata": {
      "needs_background": "light"
     },
     "output_type": "display_data"
    }
   ],
   "source": [
    "f=sns.catplot(x='States Affected', y='percent_death',data=covid,  kind='bar')\n",
    "f.fig.set_figwidth(10)\n",
    "plt.xticks(rotation=90)\n",
    "plt.title('Percent of death by States')\n",
    "plt.ylabel('')\n",
    "plt.tight_layout()\n",
    "fig=plt.gcf()\n",
    "plt.show()\n",
    "fig.savefig('barchart of percent_death.png',bbox_inches = \"tight\")"
   ]
  },
  {
   "cell_type": "code",
   "execution_count": null,
   "id": "6c159ff0-a0b0-435f-851d-ff57538d6653",
   "metadata": {},
   "outputs": [],
   "source": []
  }
 ],
 "metadata": {
  "kernelspec": {
   "display_name": "Python 3 (ipykernel)",
   "language": "python",
   "name": "python3"
  },
  "language_info": {
   "codemirror_mode": {
    "name": "ipython",
    "version": 3
   },
   "file_extension": ".py",
   "mimetype": "text/x-python",
   "name": "python",
   "nbconvert_exporter": "python",
   "pygments_lexer": "ipython3",
   "version": "3.9.7"
  }
 },
 "nbformat": 4,
 "nbformat_minor": 5
}
